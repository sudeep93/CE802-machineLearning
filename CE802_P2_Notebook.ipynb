{
 "cells": [
  {
   "cell_type": "code",
   "execution_count": 2,
   "metadata": {},
   "outputs": [],
   "source": [
    "import pandas as pd\n",
    "import numpy as np\n",
    "import seaborn as sns\n",
    "import matplotlib.pyplot as plt\n",
    "from sklearn.linear_model import LinearRegression\n",
    "from sklearn.metrics import mean_squared_error, r2_score\n",
    "from sklearn import preprocessing"
   ]
  },
  {
   "cell_type": "markdown",
   "metadata": {},
   "source": [
    "## Understanding the data"
   ]
  },
  {
   "cell_type": "code",
   "execution_count": 4,
   "metadata": {
    "scrolled": true
   },
   "outputs": [
    {
     "data": {
      "text/html": [
       "<div>\n",
       "<style scoped>\n",
       "    .dataframe tbody tr th:only-of-type {\n",
       "        vertical-align: middle;\n",
       "    }\n",
       "\n",
       "    .dataframe tbody tr th {\n",
       "        vertical-align: top;\n",
       "    }\n",
       "\n",
       "    .dataframe thead th {\n",
       "        text-align: right;\n",
       "    }\n",
       "</style>\n",
       "<table border=\"1\" class=\"dataframe\">\n",
       "  <thead>\n",
       "    <tr style=\"text-align: right;\">\n",
       "      <th></th>\n",
       "      <th>F1</th>\n",
       "      <th>F2</th>\n",
       "      <th>F3</th>\n",
       "      <th>F4</th>\n",
       "      <th>F5</th>\n",
       "      <th>F6</th>\n",
       "      <th>F7</th>\n",
       "      <th>F8</th>\n",
       "      <th>F9</th>\n",
       "      <th>F10</th>\n",
       "      <th>F11</th>\n",
       "      <th>F12</th>\n",
       "      <th>F13</th>\n",
       "      <th>F14</th>\n",
       "      <th>F15</th>\n",
       "      <th>Class</th>\n",
       "    </tr>\n",
       "  </thead>\n",
       "  <tbody>\n",
       "    <tr>\n",
       "      <th>0</th>\n",
       "      <td>16</td>\n",
       "      <td>6.03</td>\n",
       "      <td>-4.56</td>\n",
       "      <td>30.00</td>\n",
       "      <td>63.04</td>\n",
       "      <td>0.55</td>\n",
       "      <td>-0.78</td>\n",
       "      <td>0.96</td>\n",
       "      <td>-1.67</td>\n",
       "      <td>1</td>\n",
       "      <td>-339.75</td>\n",
       "      <td>0.84</td>\n",
       "      <td>9.90</td>\n",
       "      <td>-2.22</td>\n",
       "      <td>-9.53</td>\n",
       "      <td>False</td>\n",
       "    </tr>\n",
       "    <tr>\n",
       "      <th>1</th>\n",
       "      <td>6</td>\n",
       "      <td>1.41</td>\n",
       "      <td>-4.24</td>\n",
       "      <td>31.38</td>\n",
       "      <td>100.04</td>\n",
       "      <td>0.06</td>\n",
       "      <td>1.08</td>\n",
       "      <td>0.60</td>\n",
       "      <td>-3.67</td>\n",
       "      <td>1</td>\n",
       "      <td>-246.75</td>\n",
       "      <td>-0.62</td>\n",
       "      <td>12.32</td>\n",
       "      <td>-0.56</td>\n",
       "      <td>NaN</td>\n",
       "      <td>False</td>\n",
       "    </tr>\n",
       "    <tr>\n",
       "      <th>2</th>\n",
       "      <td>630</td>\n",
       "      <td>43.35</td>\n",
       "      <td>0.50</td>\n",
       "      <td>50.70</td>\n",
       "      <td>219.04</td>\n",
       "      <td>-3.46</td>\n",
       "      <td>10.08</td>\n",
       "      <td>5.65</td>\n",
       "      <td>-14.67</td>\n",
       "      <td>10</td>\n",
       "      <td>-129.75</td>\n",
       "      <td>-3.40</td>\n",
       "      <td>1.80</td>\n",
       "      <td>8.48</td>\n",
       "      <td>-10.29</td>\n",
       "      <td>False</td>\n",
       "    </tr>\n",
       "    <tr>\n",
       "      <th>3</th>\n",
       "      <td>30</td>\n",
       "      <td>2.79</td>\n",
       "      <td>-3.58</td>\n",
       "      <td>31.83</td>\n",
       "      <td>69.04</td>\n",
       "      <td>-0.40</td>\n",
       "      <td>-0.09</td>\n",
       "      <td>0.18</td>\n",
       "      <td>-1.67</td>\n",
       "      <td>1</td>\n",
       "      <td>-276.75</td>\n",
       "      <td>-0.32</td>\n",
       "      <td>13.32</td>\n",
       "      <td>1.36</td>\n",
       "      <td>-9.92</td>\n",
       "      <td>False</td>\n",
       "    </tr>\n",
       "    <tr>\n",
       "      <th>4</th>\n",
       "      <td>18</td>\n",
       "      <td>0.36</td>\n",
       "      <td>-6.62</td>\n",
       "      <td>32.97</td>\n",
       "      <td>75.04</td>\n",
       "      <td>2.43</td>\n",
       "      <td>0.24</td>\n",
       "      <td>0.48</td>\n",
       "      <td>-0.67</td>\n",
       "      <td>1</td>\n",
       "      <td>-294.75</td>\n",
       "      <td>3.14</td>\n",
       "      <td>10.80</td>\n",
       "      <td>-5.86</td>\n",
       "      <td>NaN</td>\n",
       "      <td>True</td>\n",
       "    </tr>\n",
       "  </tbody>\n",
       "</table>\n",
       "</div>"
      ],
      "text/plain": [
       "    F1     F2    F3     F4      F5    F6     F7    F8     F9  F10     F11  \\\n",
       "0   16   6.03 -4.56  30.00   63.04  0.55  -0.78  0.96  -1.67    1 -339.75   \n",
       "1    6   1.41 -4.24  31.38  100.04  0.06   1.08  0.60  -3.67    1 -246.75   \n",
       "2  630  43.35  0.50  50.70  219.04 -3.46  10.08  5.65 -14.67   10 -129.75   \n",
       "3   30   2.79 -3.58  31.83   69.04 -0.40  -0.09  0.18  -1.67    1 -276.75   \n",
       "4   18   0.36 -6.62  32.97   75.04  2.43   0.24  0.48  -0.67    1 -294.75   \n",
       "\n",
       "    F12    F13   F14    F15  Class  \n",
       "0  0.84   9.90 -2.22  -9.53  False  \n",
       "1 -0.62  12.32 -0.56    NaN  False  \n",
       "2 -3.40   1.80  8.48 -10.29  False  \n",
       "3 -0.32  13.32  1.36  -9.92  False  \n",
       "4  3.14  10.80 -5.86    NaN   True  "
      ]
     },
     "execution_count": 4,
     "metadata": {},
     "output_type": "execute_result"
    }
   ],
   "source": [
    "#Reading and loading train into datasets\n",
    "dataset=pd.read_csv(\"/Users/sudeepsawant/MS data/MachineLearningLAB/MachineLearningLAB/ML Assignment/CE802_P2_Data/CE802_P2_Data.csv\")\n",
    "dataset.head()"
   ]
  },
  {
   "cell_type": "code",
   "execution_count": 5,
   "metadata": {},
   "outputs": [
    {
     "data": {
      "text/html": [
       "<div>\n",
       "<style scoped>\n",
       "    .dataframe tbody tr th:only-of-type {\n",
       "        vertical-align: middle;\n",
       "    }\n",
       "\n",
       "    .dataframe tbody tr th {\n",
       "        vertical-align: top;\n",
       "    }\n",
       "\n",
       "    .dataframe thead th {\n",
       "        text-align: right;\n",
       "    }\n",
       "</style>\n",
       "<table border=\"1\" class=\"dataframe\">\n",
       "  <thead>\n",
       "    <tr style=\"text-align: right;\">\n",
       "      <th></th>\n",
       "      <th>F1</th>\n",
       "      <th>F2</th>\n",
       "      <th>F3</th>\n",
       "      <th>F4</th>\n",
       "      <th>F5</th>\n",
       "      <th>F6</th>\n",
       "      <th>F7</th>\n",
       "      <th>F8</th>\n",
       "      <th>F9</th>\n",
       "      <th>F10</th>\n",
       "      <th>F11</th>\n",
       "      <th>F12</th>\n",
       "      <th>F13</th>\n",
       "      <th>F14</th>\n",
       "      <th>F15</th>\n",
       "      <th>Class</th>\n",
       "    </tr>\n",
       "  </thead>\n",
       "  <tbody>\n",
       "    <tr>\n",
       "      <th>1495</th>\n",
       "      <td>740</td>\n",
       "      <td>19.05</td>\n",
       "      <td>5.18</td>\n",
       "      <td>46.65</td>\n",
       "      <td>54.04</td>\n",
       "      <td>-3.86</td>\n",
       "      <td>15.30</td>\n",
       "      <td>9.80</td>\n",
       "      <td>-4.67</td>\n",
       "      <td>10</td>\n",
       "      <td>-534.75</td>\n",
       "      <td>1.08</td>\n",
       "      <td>1.24</td>\n",
       "      <td>4.78</td>\n",
       "      <td>NaN</td>\n",
       "      <td>False</td>\n",
       "    </tr>\n",
       "    <tr>\n",
       "      <th>1496</th>\n",
       "      <td>2</td>\n",
       "      <td>4.29</td>\n",
       "      <td>-5.10</td>\n",
       "      <td>30.54</td>\n",
       "      <td>86.04</td>\n",
       "      <td>1.84</td>\n",
       "      <td>-1.77</td>\n",
       "      <td>0.73</td>\n",
       "      <td>-1.67</td>\n",
       "      <td>1</td>\n",
       "      <td>-279.75</td>\n",
       "      <td>-1.56</td>\n",
       "      <td>13.72</td>\n",
       "      <td>-1.46</td>\n",
       "      <td>-10.00</td>\n",
       "      <td>False</td>\n",
       "    </tr>\n",
       "    <tr>\n",
       "      <th>1497</th>\n",
       "      <td>160</td>\n",
       "      <td>20.25</td>\n",
       "      <td>5.42</td>\n",
       "      <td>51.60</td>\n",
       "      <td>114.04</td>\n",
       "      <td>-3.73</td>\n",
       "      <td>15.18</td>\n",
       "      <td>7.30</td>\n",
       "      <td>-4.67</td>\n",
       "      <td>10</td>\n",
       "      <td>-399.75</td>\n",
       "      <td>0.44</td>\n",
       "      <td>-0.56</td>\n",
       "      <td>10.12</td>\n",
       "      <td>NaN</td>\n",
       "      <td>True</td>\n",
       "    </tr>\n",
       "    <tr>\n",
       "      <th>1498</th>\n",
       "      <td>220</td>\n",
       "      <td>20.10</td>\n",
       "      <td>2.12</td>\n",
       "      <td>50.55</td>\n",
       "      <td>239.04</td>\n",
       "      <td>-3.24</td>\n",
       "      <td>13.38</td>\n",
       "      <td>6.40</td>\n",
       "      <td>-14.67</td>\n",
       "      <td>10</td>\n",
       "      <td>-39.75</td>\n",
       "      <td>-3.72</td>\n",
       "      <td>1.22</td>\n",
       "      <td>9.06</td>\n",
       "      <td>NaN</td>\n",
       "      <td>False</td>\n",
       "    </tr>\n",
       "    <tr>\n",
       "      <th>1499</th>\n",
       "      <td>20</td>\n",
       "      <td>5.31</td>\n",
       "      <td>-3.02</td>\n",
       "      <td>31.44</td>\n",
       "      <td>72.04</td>\n",
       "      <td>0.74</td>\n",
       "      <td>2.16</td>\n",
       "      <td>1.02</td>\n",
       "      <td>0.33</td>\n",
       "      <td>1</td>\n",
       "      <td>-297.75</td>\n",
       "      <td>1.64</td>\n",
       "      <td>14.46</td>\n",
       "      <td>1.28</td>\n",
       "      <td>-11.14</td>\n",
       "      <td>True</td>\n",
       "    </tr>\n",
       "  </tbody>\n",
       "</table>\n",
       "</div>"
      ],
      "text/plain": [
       "       F1     F2    F3     F4      F5    F6     F7    F8     F9  F10     F11  \\\n",
       "1495  740  19.05  5.18  46.65   54.04 -3.86  15.30  9.80  -4.67   10 -534.75   \n",
       "1496    2   4.29 -5.10  30.54   86.04  1.84  -1.77  0.73  -1.67    1 -279.75   \n",
       "1497  160  20.25  5.42  51.60  114.04 -3.73  15.18  7.30  -4.67   10 -399.75   \n",
       "1498  220  20.10  2.12  50.55  239.04 -3.24  13.38  6.40 -14.67   10  -39.75   \n",
       "1499   20   5.31 -3.02  31.44   72.04  0.74   2.16  1.02   0.33    1 -297.75   \n",
       "\n",
       "       F12    F13    F14    F15  Class  \n",
       "1495  1.08   1.24   4.78    NaN  False  \n",
       "1496 -1.56  13.72  -1.46 -10.00  False  \n",
       "1497  0.44  -0.56  10.12    NaN   True  \n",
       "1498 -3.72   1.22   9.06    NaN  False  \n",
       "1499  1.64  14.46   1.28 -11.14   True  "
      ]
     },
     "execution_count": 5,
     "metadata": {},
     "output_type": "execute_result"
    }
   ],
   "source": [
    "#Analysing trainin\n",
    "dataset.tail()"
   ]
  },
  {
   "cell_type": "code",
   "execution_count": 6,
   "metadata": {},
   "outputs": [
    {
     "data": {
      "text/html": [
       "<div>\n",
       "<style scoped>\n",
       "    .dataframe tbody tr th:only-of-type {\n",
       "        vertical-align: middle;\n",
       "    }\n",
       "\n",
       "    .dataframe tbody tr th {\n",
       "        vertical-align: top;\n",
       "    }\n",
       "\n",
       "    .dataframe thead th {\n",
       "        text-align: right;\n",
       "    }\n",
       "</style>\n",
       "<table border=\"1\" class=\"dataframe\">\n",
       "  <thead>\n",
       "    <tr style=\"text-align: right;\">\n",
       "      <th></th>\n",
       "      <th>F1</th>\n",
       "      <th>F2</th>\n",
       "      <th>F3</th>\n",
       "      <th>F4</th>\n",
       "      <th>F5</th>\n",
       "      <th>F6</th>\n",
       "      <th>F7</th>\n",
       "      <th>F8</th>\n",
       "      <th>F9</th>\n",
       "      <th>F10</th>\n",
       "      <th>F11</th>\n",
       "      <th>F12</th>\n",
       "      <th>F13</th>\n",
       "      <th>F14</th>\n",
       "      <th>F15</th>\n",
       "    </tr>\n",
       "  </thead>\n",
       "  <tbody>\n",
       "    <tr>\n",
       "      <th>count</th>\n",
       "      <td>1500.000000</td>\n",
       "      <td>1500.00000</td>\n",
       "      <td>1500.000000</td>\n",
       "      <td>1500.000000</td>\n",
       "      <td>1500.000000</td>\n",
       "      <td>1500.000000</td>\n",
       "      <td>1500.000000</td>\n",
       "      <td>1500.000000</td>\n",
       "      <td>1500.000000</td>\n",
       "      <td>1500.000000</td>\n",
       "      <td>1500.000000</td>\n",
       "      <td>1500.000000</td>\n",
       "      <td>1500.000000</td>\n",
       "      <td>1500.000000</td>\n",
       "      <td>750.000000</td>\n",
       "    </tr>\n",
       "    <tr>\n",
       "      <th>mean</th>\n",
       "      <td>218.049333</td>\n",
       "      <td>14.90628</td>\n",
       "      <td>-0.829733</td>\n",
       "      <td>41.063440</td>\n",
       "      <td>133.485333</td>\n",
       "      <td>-1.592947</td>\n",
       "      <td>5.390220</td>\n",
       "      <td>3.854280</td>\n",
       "      <td>-7.308000</td>\n",
       "      <td>5.403333</td>\n",
       "      <td>-307.992000</td>\n",
       "      <td>0.244707</td>\n",
       "      <td>7.315067</td>\n",
       "      <td>3.542427</td>\n",
       "      <td>-10.463013</td>\n",
       "    </tr>\n",
       "    <tr>\n",
       "      <th>std</th>\n",
       "      <td>234.669160</td>\n",
       "      <td>12.97563</td>\n",
       "      <td>5.090345</td>\n",
       "      <td>9.500727</td>\n",
       "      <td>71.416874</td>\n",
       "      <td>2.513850</td>\n",
       "      <td>7.662813</td>\n",
       "      <td>3.465276</td>\n",
       "      <td>7.159315</td>\n",
       "      <td>4.504907</td>\n",
       "      <td>120.565344</td>\n",
       "      <td>2.217929</td>\n",
       "      <td>4.982472</td>\n",
       "      <td>5.081288</td>\n",
       "      <td>1.005117</td>\n",
       "    </tr>\n",
       "    <tr>\n",
       "      <th>min</th>\n",
       "      <td>0.000000</td>\n",
       "      <td>0.00000</td>\n",
       "      <td>-17.560000</td>\n",
       "      <td>30.000000</td>\n",
       "      <td>54.040000</td>\n",
       "      <td>-6.070000</td>\n",
       "      <td>-19.800000</td>\n",
       "      <td>0.000000</td>\n",
       "      <td>-24.670000</td>\n",
       "      <td>0.000000</td>\n",
       "      <td>-609.750000</td>\n",
       "      <td>-4.480000</td>\n",
       "      <td>-1.700000</td>\n",
       "      <td>-14.520000</td>\n",
       "      <td>-12.820000</td>\n",
       "    </tr>\n",
       "    <tr>\n",
       "      <th>25%</th>\n",
       "      <td>30.000000</td>\n",
       "      <td>3.72000</td>\n",
       "      <td>-4.600000</td>\n",
       "      <td>32.160000</td>\n",
       "      <td>78.040000</td>\n",
       "      <td>-4.000000</td>\n",
       "      <td>-0.300000</td>\n",
       "      <td>0.600000</td>\n",
       "      <td>-14.670000</td>\n",
       "      <td>1.000000</td>\n",
       "      <td>-354.750000</td>\n",
       "      <td>-1.060000</td>\n",
       "      <td>2.560000</td>\n",
       "      <td>-0.220000</td>\n",
       "      <td>-11.210000</td>\n",
       "    </tr>\n",
       "    <tr>\n",
       "      <th>50%</th>\n",
       "      <td>100.000000</td>\n",
       "      <td>6.21000</td>\n",
       "      <td>-2.810000</td>\n",
       "      <td>33.240000</td>\n",
       "      <td>98.040000</td>\n",
       "      <td>-0.610000</td>\n",
       "      <td>2.400000</td>\n",
       "      <td>1.020000</td>\n",
       "      <td>-3.670000</td>\n",
       "      <td>1.000000</td>\n",
       "      <td>-291.750000</td>\n",
       "      <td>-0.060000</td>\n",
       "      <td>9.220000</td>\n",
       "      <td>1.580000</td>\n",
       "      <td>-10.470000</td>\n",
       "    </tr>\n",
       "    <tr>\n",
       "      <th>75%</th>\n",
       "      <td>390.000000</td>\n",
       "      <td>24.60000</td>\n",
       "      <td>4.080000</td>\n",
       "      <td>49.350000</td>\n",
       "      <td>194.040000</td>\n",
       "      <td>0.350000</td>\n",
       "      <td>12.877500</td>\n",
       "      <td>7.050000</td>\n",
       "      <td>-1.670000</td>\n",
       "      <td>10.000000</td>\n",
       "      <td>-252.750000</td>\n",
       "      <td>1.400000</td>\n",
       "      <td>10.985000</td>\n",
       "      <td>8.500000</td>\n",
       "      <td>-9.742500</td>\n",
       "    </tr>\n",
       "    <tr>\n",
       "      <th>max</th>\n",
       "      <td>780.000000</td>\n",
       "      <td>47.10000</td>\n",
       "      <td>8.300000</td>\n",
       "      <td>60.450000</td>\n",
       "      <td>299.040000</td>\n",
       "      <td>6.070000</td>\n",
       "      <td>18.810000</td>\n",
       "      <td>10.350000</td>\n",
       "      <td>1.330000</td>\n",
       "      <td>10.000000</td>\n",
       "      <td>35.250000</td>\n",
       "      <td>8.720000</td>\n",
       "      <td>22.780000</td>\n",
       "      <td>12.860000</td>\n",
       "      <td>-7.740000</td>\n",
       "    </tr>\n",
       "  </tbody>\n",
       "</table>\n",
       "</div>"
      ],
      "text/plain": [
       "                F1          F2           F3           F4           F5  \\\n",
       "count  1500.000000  1500.00000  1500.000000  1500.000000  1500.000000   \n",
       "mean    218.049333    14.90628    -0.829733    41.063440   133.485333   \n",
       "std     234.669160    12.97563     5.090345     9.500727    71.416874   \n",
       "min       0.000000     0.00000   -17.560000    30.000000    54.040000   \n",
       "25%      30.000000     3.72000    -4.600000    32.160000    78.040000   \n",
       "50%     100.000000     6.21000    -2.810000    33.240000    98.040000   \n",
       "75%     390.000000    24.60000     4.080000    49.350000   194.040000   \n",
       "max     780.000000    47.10000     8.300000    60.450000   299.040000   \n",
       "\n",
       "                F6           F7           F8           F9          F10  \\\n",
       "count  1500.000000  1500.000000  1500.000000  1500.000000  1500.000000   \n",
       "mean     -1.592947     5.390220     3.854280    -7.308000     5.403333   \n",
       "std       2.513850     7.662813     3.465276     7.159315     4.504907   \n",
       "min      -6.070000   -19.800000     0.000000   -24.670000     0.000000   \n",
       "25%      -4.000000    -0.300000     0.600000   -14.670000     1.000000   \n",
       "50%      -0.610000     2.400000     1.020000    -3.670000     1.000000   \n",
       "75%       0.350000    12.877500     7.050000    -1.670000    10.000000   \n",
       "max       6.070000    18.810000    10.350000     1.330000    10.000000   \n",
       "\n",
       "               F11          F12          F13          F14         F15  \n",
       "count  1500.000000  1500.000000  1500.000000  1500.000000  750.000000  \n",
       "mean   -307.992000     0.244707     7.315067     3.542427  -10.463013  \n",
       "std     120.565344     2.217929     4.982472     5.081288    1.005117  \n",
       "min    -609.750000    -4.480000    -1.700000   -14.520000  -12.820000  \n",
       "25%    -354.750000    -1.060000     2.560000    -0.220000  -11.210000  \n",
       "50%    -291.750000    -0.060000     9.220000     1.580000  -10.470000  \n",
       "75%    -252.750000     1.400000    10.985000     8.500000   -9.742500  \n",
       "max      35.250000     8.720000    22.780000    12.860000   -7.740000  "
      ]
     },
     "execution_count": 6,
     "metadata": {},
     "output_type": "execute_result"
    }
   ],
   "source": [
    "#Analysing all columns in training dataset\n",
    "dataset.describe()"
   ]
  },
  {
   "cell_type": "code",
   "execution_count": 7,
   "metadata": {},
   "outputs": [
    {
     "data": {
      "text/plain": [
       "(array([670., 214.,  89.,  78.,  68.,  80.,  75.,  73.,  95.,  58.]),\n",
       " array([  0.,  78., 156., 234., 312., 390., 468., 546., 624., 702., 780.]),\n",
       " <BarContainer object of 10 artists>)"
      ]
     },
     "execution_count": 7,
     "metadata": {},
     "output_type": "execute_result"
    },
    {
     "data": {
      "image/png": "[encoded data removed]",
      "text/plain": [
       "<Figure size 432x288 with 1 Axes>"
      ]
     },
     "metadata": {
      "needs_background": "light"
     },
     "output_type": "display_data"
    }
   ],
   "source": [
    "# checking sample distribution\n",
    "plt.hist(dataset.F1)"
   ]
  },
  {
   "cell_type": "code",
   "execution_count": 8,
   "metadata": {},
   "outputs": [
    {
     "data": {
      "text/plain": [
       "(1500, 16)"
      ]
     },
     "execution_count": 8,
     "metadata": {},
     "output_type": "execute_result"
    }
   ],
   "source": [
    "dataset.shape"
   ]
  },
  {
   "cell_type": "code",
   "execution_count": 9,
   "metadata": {},
   "outputs": [
    {
     "data": {
      "text/plain": [
       "Index(['F1', 'F2', 'F3', 'F4', 'F5', 'F6', 'F7', 'F8', 'F9', 'F10', 'F11',\n",
       "       'F12', 'F13', 'F14', 'F15', 'Class'],\n",
       "      dtype='object')"
      ]
     },
     "execution_count": 9,
     "metadata": {},
     "output_type": "execute_result"
    }
   ],
   "source": [
    "dataset.columns"
   ]
  },
  {
   "cell_type": "code",
   "execution_count": 10,
   "metadata": {},
   "outputs": [
    {
     "data": {
      "text/plain": [
       "F1       141\n",
       "F2       400\n",
       "F3       650\n",
       "F4       214\n",
       "F5        91\n",
       "F6       656\n",
       "F7       660\n",
       "F8       216\n",
       "F9        11\n",
       "F10        4\n",
       "F11       80\n",
       "F12      432\n",
       "F13      649\n",
       "F14      646\n",
       "F15      331\n",
       "Class      2\n",
       "dtype: int64"
      ]
     },
     "execution_count": 10,
     "metadata": {},
     "output_type": "execute_result"
    }
   ],
   "source": [
    "dataset.nunique()"
   ]
  },
  {
   "cell_type": "code",
   "execution_count": 11,
   "metadata": {},
   "outputs": [
    {
     "data": {
      "text/plain": [
       "<AxesSubplot:>"
      ]
     },
     "execution_count": 11,
     "metadata": {},
     "output_type": "execute_result"
    },
    {
     "data": {
      "image/png": "[encoded data removed]",
      "text/plain": [
       "<Figure size 1440x720 with 2 Axes>"
      ]
     },
     "metadata": {
      "needs_background": "light"
     },
     "output_type": "display_data"
    }
   ],
   "source": [
    "#Plotting Correlation\n",
    "plt.figure(figsize=(20,10))\n",
    "correlation=dataset.corr()\n",
    "sns.heatmap(correlation,xticklabels=correlation.columns,yticklabels=correlation.columns,annot=True)\n"
   ]
  },
  {
   "cell_type": "markdown",
   "metadata": {},
   "source": [
    "## Cleaning the data"
   ]
  },
  {
   "cell_type": "code",
   "execution_count": 12,
   "metadata": {},
   "outputs": [
    {
     "data": {
      "text/plain": [
       "F1         0\n",
       "F2         0\n",
       "F3         0\n",
       "F4         0\n",
       "F5         0\n",
       "F6         0\n",
       "F7         0\n",
       "F8         0\n",
       "F9         0\n",
       "F10        0\n",
       "F11        0\n",
       "F12        0\n",
       "F13        0\n",
       "F14        0\n",
       "F15      750\n",
       "Class      0\n",
       "dtype: int64"
      ]
     },
     "execution_count": 12,
     "metadata": {},
     "output_type": "execute_result"
    }
   ],
   "source": [
    "dataset.isnull().sum()"
   ]
  },
  {
   "cell_type": "code",
   "execution_count": 13,
   "metadata": {},
   "outputs": [
    {
     "data": {
      "text/plain": [
       "(array([ 22.,  52.,  98., 116., 129., 135., 101.,  69.,  19.,   9.]),\n",
       " array([-12.82 , -12.312, -11.804, -11.296, -10.788, -10.28 ,  -9.772,\n",
       "         -9.264,  -8.756,  -8.248,  -7.74 ]),\n",
       " <BarContainer object of 10 artists>)"
      ]
     },
     "execution_count": 13,
     "metadata": {},
     "output_type": "execute_result"
    },
    {
     "data": {
      "image/png": "[encoded data removed]",
      "text/plain": [
       "<Figure size 432x288 with 1 Axes>"
      ]
     },
     "metadata": {
      "needs_background": "light"
     },
     "output_type": "display_data"
    }
   ],
   "source": [
    "# checking sample distribution\n",
    "plt.hist(dataset.F15)"
   ]
  },
  {
   "cell_type": "code",
   "execution_count": 14,
   "metadata": {},
   "outputs": [],
   "source": [
    "# replacing 0 and 1 with true false\n",
    "cleanup = {\"Class\": {False:0, True:1}}\n",
    "dataset.replace(cleanup, inplace=True)"
   ]
  },
  {
   "cell_type": "code",
   "execution_count": 15,
   "metadata": {},
   "outputs": [
    {
     "data": {
      "text/plain": [
       "<AxesSubplot:>"
      ]
     },
     "execution_count": 15,
     "metadata": {},
     "output_type": "execute_result"
    },
    {
     "data": {
      "image/png": "[encoded data removed]",
      "text/plain": [
       "<Figure size 432x288 with 1 Axes>"
      ]
     },
     "metadata": {
      "needs_background": "light"
     },
     "output_type": "display_data"
    }
   ],
   "source": [
    "# heatap to identify missing value\n",
    "sns.heatmap(dataset.isnull(),yticklabels=False,cbar=False,cmap=\"viridis\")"
   ]
  },
  {
   "cell_type": "code",
   "execution_count": 16,
   "metadata": {},
   "outputs": [
    {
     "data": {
      "text/plain": [
       "F1       0\n",
       "F2       0\n",
       "F3       0\n",
       "F4       0\n",
       "F5       0\n",
       "F6       0\n",
       "F7       0\n",
       "F8       0\n",
       "F9       0\n",
       "F10      0\n",
       "F11      0\n",
       "F12      0\n",
       "F13      0\n",
       "F14      0\n",
       "F15      0\n",
       "Class    0\n",
       "dtype: int64"
      ]
     },
     "execution_count": 16,
     "metadata": {},
     "output_type": "execute_result"
    }
   ],
   "source": [
    "#treating missing value with mean value\n",
    "dataset=dataset.fillna(dataset.mean())\n",
    "dataset.isnull().sum()"
   ]
  },
  {
   "cell_type": "markdown",
   "metadata": {},
   "source": [
    "## Data Spliting"
   ]
  },
  {
   "cell_type": "code",
   "execution_count": 17,
   "metadata": {},
   "outputs": [
    {
     "data": {
      "text/html": [
       "<div>\n",
       "<style scoped>\n",
       "    .dataframe tbody tr th:only-of-type {\n",
       "        vertical-align: middle;\n",
       "    }\n",
       "\n",
       "    .dataframe tbody tr th {\n",
       "        vertical-align: top;\n",
       "    }\n",
       "\n",
       "    .dataframe thead th {\n",
       "        text-align: right;\n",
       "    }\n",
       "</style>\n",
       "<table border=\"1\" class=\"dataframe\">\n",
       "  <thead>\n",
       "    <tr style=\"text-align: right;\">\n",
       "      <th></th>\n",
       "      <th>0</th>\n",
       "      <th>1</th>\n",
       "      <th>2</th>\n",
       "      <th>3</th>\n",
       "      <th>4</th>\n",
       "      <th>5</th>\n",
       "      <th>6</th>\n",
       "      <th>7</th>\n",
       "      <th>8</th>\n",
       "      <th>9</th>\n",
       "      <th>10</th>\n",
       "      <th>11</th>\n",
       "      <th>12</th>\n",
       "      <th>13</th>\n",
       "      <th>14</th>\n",
       "      <th>15</th>\n",
       "    </tr>\n",
       "  </thead>\n",
       "  <tbody>\n",
       "    <tr>\n",
       "      <th>0</th>\n",
       "      <td>0.020513</td>\n",
       "      <td>0.128025</td>\n",
       "      <td>0.502707</td>\n",
       "      <td>0.000000</td>\n",
       "      <td>0.036735</td>\n",
       "      <td>0.545305</td>\n",
       "      <td>0.492618</td>\n",
       "      <td>0.092754</td>\n",
       "      <td>0.884615</td>\n",
       "      <td>0.1</td>\n",
       "      <td>0.418605</td>\n",
       "      <td>0.403030</td>\n",
       "      <td>0.473856</td>\n",
       "      <td>0.449233</td>\n",
       "      <td>0.647638</td>\n",
       "      <td>0.0</td>\n",
       "    </tr>\n",
       "    <tr>\n",
       "      <th>1</th>\n",
       "      <td>0.007692</td>\n",
       "      <td>0.029936</td>\n",
       "      <td>0.515081</td>\n",
       "      <td>0.045320</td>\n",
       "      <td>0.187755</td>\n",
       "      <td>0.504942</td>\n",
       "      <td>0.540793</td>\n",
       "      <td>0.057971</td>\n",
       "      <td>0.807692</td>\n",
       "      <td>0.1</td>\n",
       "      <td>0.562791</td>\n",
       "      <td>0.292424</td>\n",
       "      <td>0.572712</td>\n",
       "      <td>0.509861</td>\n",
       "      <td>0.463974</td>\n",
       "      <td>0.0</td>\n",
       "    </tr>\n",
       "    <tr>\n",
       "      <th>2</th>\n",
       "      <td>0.807692</td>\n",
       "      <td>0.920382</td>\n",
       "      <td>0.698376</td>\n",
       "      <td>0.679803</td>\n",
       "      <td>0.673469</td>\n",
       "      <td>0.214992</td>\n",
       "      <td>0.773893</td>\n",
       "      <td>0.545894</td>\n",
       "      <td>0.384615</td>\n",
       "      <td>1.0</td>\n",
       "      <td>0.744186</td>\n",
       "      <td>0.081818</td>\n",
       "      <td>0.142974</td>\n",
       "      <td>0.840029</td>\n",
       "      <td>0.498031</td>\n",
       "      <td>0.0</td>\n",
       "    </tr>\n",
       "    <tr>\n",
       "      <th>3</th>\n",
       "      <td>0.038462</td>\n",
       "      <td>0.059236</td>\n",
       "      <td>0.540603</td>\n",
       "      <td>0.060099</td>\n",
       "      <td>0.061224</td>\n",
       "      <td>0.467051</td>\n",
       "      <td>0.510490</td>\n",
       "      <td>0.017391</td>\n",
       "      <td>0.884615</td>\n",
       "      <td>0.1</td>\n",
       "      <td>0.516279</td>\n",
       "      <td>0.315152</td>\n",
       "      <td>0.613562</td>\n",
       "      <td>0.579985</td>\n",
       "      <td>0.570866</td>\n",
       "      <td>0.0</td>\n",
       "    </tr>\n",
       "    <tr>\n",
       "      <th>4</th>\n",
       "      <td>0.023077</td>\n",
       "      <td>0.007643</td>\n",
       "      <td>0.423047</td>\n",
       "      <td>0.097537</td>\n",
       "      <td>0.085714</td>\n",
       "      <td>0.700165</td>\n",
       "      <td>0.519037</td>\n",
       "      <td>0.046377</td>\n",
       "      <td>0.923077</td>\n",
       "      <td>0.1</td>\n",
       "      <td>0.488372</td>\n",
       "      <td>0.577273</td>\n",
       "      <td>0.510621</td>\n",
       "      <td>0.316289</td>\n",
       "      <td>0.463974</td>\n",
       "      <td>1.0</td>\n",
       "    </tr>\n",
       "  </tbody>\n",
       "</table>\n",
       "</div>"
      ],
      "text/plain": [
       "         0         1         2         3         4         5         6   \\\n",
       "0  0.020513  0.128025  0.502707  0.000000  0.036735  0.545305  0.492618   \n",
       "1  0.007692  0.029936  0.515081  0.045320  0.187755  0.504942  0.540793   \n",
       "2  0.807692  0.920382  0.698376  0.679803  0.673469  0.214992  0.773893   \n",
       "3  0.038462  0.059236  0.540603  0.060099  0.061224  0.467051  0.510490   \n",
       "4  0.023077  0.007643  0.423047  0.097537  0.085714  0.700165  0.519037   \n",
       "\n",
       "         7         8    9         10        11        12        13        14  \\\n",
       "0  0.092754  0.884615  0.1  0.418605  0.403030  0.473856  0.449233  0.647638   \n",
       "1  0.057971  0.807692  0.1  0.562791  0.292424  0.572712  0.509861  0.463974   \n",
       "2  0.545894  0.384615  1.0  0.744186  0.081818  0.142974  0.840029  0.498031   \n",
       "3  0.017391  0.884615  0.1  0.516279  0.315152  0.613562  0.579985  0.570866   \n",
       "4  0.046377  0.923077  0.1  0.488372  0.577273  0.510621  0.316289  0.463974   \n",
       "\n",
       "    15  \n",
       "0  0.0  \n",
       "1  0.0  \n",
       "2  0.0  \n",
       "3  0.0  \n",
       "4  1.0  "
      ]
     },
     "execution_count": 17,
     "metadata": {},
     "output_type": "execute_result"
    }
   ],
   "source": [
    "# traget data and features seprating \n",
    "Input=dataset.iloc[:,0:16]\n",
    "x = Input.values #returns a numpy array\n",
    "min_max_scaler = preprocessing.MinMaxScaler()\n",
    "x_scaled = min_max_scaler.fit_transform(x)\n",
    "dataset = pd.DataFrame(x_scaled)\n",
    "dataset.head()"
   ]
  },
  {
   "cell_type": "code",
   "execution_count": 18,
   "metadata": {},
   "outputs": [],
   "source": [
    "# dataset column rename\n",
    "dataset=dataset.rename(columns={0:'F1',1:'F2',2:'F3',3:'F4',4:'F5',5:'F6',6:'F7',7:'F8',8:'F9',9:'F10',10:'F11',11:'F12',12:'F13',13:'F14',14:'F15',15:'Class'})"
   ]
  },
  {
   "cell_type": "code",
   "execution_count": 19,
   "metadata": {},
   "outputs": [],
   "source": [
    "from sklearn.model_selection import train_test_split\n",
    "X = dataset.loc[:, dataset.columns != 'Class']\n",
    "y = dataset.loc[:, dataset.columns == 'Class']"
   ]
  },
  {
   "cell_type": "code",
   "execution_count": 20,
   "metadata": {},
   "outputs": [],
   "source": [
    "X_train,X_test,y_train,y_test=train_test_split(X,y,test_size=0.25,random_state=0)\n"
   ]
  },
  {
   "cell_type": "markdown",
   "metadata": {},
   "source": [
    "## Decision Tree Model "
   ]
  },
  {
   "cell_type": "code",
   "execution_count": 21,
   "metadata": {},
   "outputs": [
    {
     "data": {
      "text/plain": [
       "DecisionTreeClassifier()"
      ]
     },
     "execution_count": 21,
     "metadata": {},
     "output_type": "execute_result"
    }
   ],
   "source": [
    "# building Decision Tree  classifier model and training \n",
    "from sklearn.tree import DecisionTreeClassifier\n",
    "classifier = DecisionTreeClassifier(criterion='gini')\n",
    "classifier.fit(X_train, y_train)"
   ]
  },
  {
   "cell_type": "code",
   "execution_count": 22,
   "metadata": {},
   "outputs": [],
   "source": [
    "### Lets Do the prediction\n",
    "y_pred = classifier.predict(X_test)"
   ]
  },
  {
   "cell_type": "code",
   "execution_count": 23,
   "metadata": {},
   "outputs": [
    {
     "name": "stdout",
     "output_type": "stream",
     "text": [
      "[[156  52]\n",
      " [ 47 120]]\n",
      "              precision    recall  f1-score   support\n",
      "\n",
      "         0.0       0.77      0.75      0.76       208\n",
      "         1.0       0.70      0.72      0.71       167\n",
      "\n",
      "    accuracy                           0.74       375\n",
      "   macro avg       0.73      0.73      0.73       375\n",
      "weighted avg       0.74      0.74      0.74       375\n",
      "\n"
     ]
    }
   ],
   "source": [
    "# Confusion matrix and classification report\n",
    "from sklearn.metrics import classification_report, confusion_matrix,plot_confusion_matrix\n",
    "print(confusion_matrix(y_test, y_pred))\n",
    "print(classification_report(y_test, y_pred))"
   ]
  },
  {
   "cell_type": "code",
   "execution_count": 24,
   "metadata": {},
   "outputs": [
    {
     "data": {
      "image/png": "[encoded data removed]",
      "text/plain": [
       "<Figure size 432x288 with 2 Axes>"
      ]
     },
     "metadata": {
      "needs_background": "light"
     },
     "output_type": "display_data"
    }
   ],
   "source": [
    "#plotting Confusion matrix\n",
    "plot_confusion_matrix(classifier, X_test, y_test)  \n",
    "plt.show()"
   ]
  },
  {
   "cell_type": "markdown",
   "metadata": {},
   "source": [
    "## Random forest classifier\n"
   ]
  },
  {
   "cell_type": "code",
   "execution_count": 25,
   "metadata": {
    "scrolled": true
   },
   "outputs": [
    {
     "name": "stderr",
     "output_type": "stream",
     "text": [
      "<ipython-input-25-4b081b46cdf5>:4: DataConversionWarning: A column-vector y was passed when a 1d array was expected. Please change the shape of y to (n_samples,), for example using ravel().\n",
      "  clf.fit(X_train, y_train)\n"
     ]
    },
    {
     "data": {
      "text/plain": [
       "RandomForestClassifier(max_depth=2, n_estimators=150, random_state=0)"
      ]
     },
     "execution_count": 25,
     "metadata": {},
     "output_type": "execute_result"
    }
   ],
   "source": [
    "# Building and training \n",
    "from sklearn.ensemble import RandomForestClassifier\n",
    "clf = RandomForestClassifier(n_estimators=150,max_depth=2, random_state=0)\n",
    "clf.fit(X_train, y_train)\n"
   ]
  },
  {
   "cell_type": "code",
   "execution_count": 26,
   "metadata": {
    "scrolled": true
   },
   "outputs": [
    {
     "data": {
      "text/plain": [
       "array([1., 0., 1., 0., 1., 1., 0., 1., 0., 1., 0., 1., 0., 0., 1., 0., 1.,\n",
       "       1., 1., 0., 0., 0., 0., 1., 1., 1., 0., 1., 1., 1., 1., 1., 1., 0.,\n",
       "       1., 1., 0., 0., 0., 1., 0., 0., 1., 1., 0., 1., 0., 0., 1., 0., 0.,\n",
       "       0., 1., 1., 0., 0., 0., 0., 0., 0., 0., 0., 0., 1., 1., 1., 1., 1.,\n",
       "       0., 0., 1., 1., 1., 0., 0., 0., 1., 0., 1., 1., 0., 1., 0., 0., 1.,\n",
       "       1., 1., 1., 0., 1., 1., 0., 0., 0., 1., 1., 0., 1., 1., 1., 0., 1.,\n",
       "       0., 0., 1., 0., 0., 0., 0., 1., 1., 1., 0., 0., 0., 1., 0., 1., 1.,\n",
       "       1., 0., 1., 0., 0., 0., 0., 0., 0., 0., 1., 0., 0., 1., 0., 1., 1.,\n",
       "       0., 0., 0., 0., 0., 1., 1., 0., 1., 0., 1., 1., 0., 1., 0., 1., 0.,\n",
       "       1., 1., 0., 1., 0., 0., 0., 1., 1., 0., 0., 1., 1., 0., 1., 0., 1.,\n",
       "       1., 0., 1., 0., 0., 0., 1., 0., 1., 0., 0., 1., 1., 0., 1., 1., 0.,\n",
       "       0., 0., 1., 0., 0., 0., 1., 1., 1., 0., 1., 1., 0., 0., 0., 0., 0.,\n",
       "       1., 1., 0., 0., 1., 0., 1., 1., 0., 0., 0., 1., 0., 1., 0., 1., 0.,\n",
       "       1., 1., 0., 1., 0., 0., 1., 0., 0., 0., 0., 1., 0., 0., 0., 1., 0.,\n",
       "       1., 0., 1., 0., 1., 0., 0., 1., 0., 1., 0., 0., 0., 0., 0., 1., 1.,\n",
       "       1., 0., 0., 1., 0., 0., 1., 0., 1., 1., 0., 1., 0., 0., 1., 1., 1.,\n",
       "       0., 1., 0., 0., 1., 0., 0., 0., 0., 0., 1., 0., 0., 0., 0., 0., 0.,\n",
       "       0., 0., 0., 0., 0., 0., 0., 0., 0., 0., 0., 0., 1., 1., 1., 1., 0.,\n",
       "       1., 0., 0., 1., 0., 1., 1., 1., 0., 1., 0., 1., 1., 0., 0., 0., 0.,\n",
       "       0., 1., 1., 0., 1., 0., 0., 0., 0., 1., 0., 1., 1., 1., 1., 0., 0.,\n",
       "       0., 1., 0., 1., 1., 0., 0., 0., 0., 1., 1., 0., 0., 1., 0., 0., 0.,\n",
       "       0., 0., 1., 0., 0., 0., 0., 1., 1., 1., 1., 0., 0., 0., 0., 0., 0.,\n",
       "       0.])"
      ]
     },
     "execution_count": 26,
     "metadata": {},
     "output_type": "execute_result"
    }
   ],
   "source": [
    "clf.predict(X_test)"
   ]
  },
  {
   "cell_type": "code",
   "execution_count": 27,
   "metadata": {},
   "outputs": [],
   "source": [
    "#import classification_report\n",
    "from sklearn.metrics import classification_report"
   ]
  },
  {
   "cell_type": "code",
   "execution_count": 28,
   "metadata": {},
   "outputs": [
    {
     "name": "stdout",
     "output_type": "stream",
     "text": [
      "              precision    recall  f1-score   support\n",
      "\n",
      "         0.0       0.77      0.75      0.76       208\n",
      "         1.0       0.70      0.72      0.71       167\n",
      "\n",
      "    accuracy                           0.74       375\n",
      "   macro avg       0.73      0.73      0.73       375\n",
      "weighted avg       0.74      0.74      0.74       375\n",
      "\n"
     ]
    }
   ],
   "source": [
    "print(classification_report(y_test,y_pred))"
   ]
  },
  {
   "cell_type": "code",
   "execution_count": 29,
   "metadata": {},
   "outputs": [
    {
     "data": {
      "image/png": "[encoded data removed]",
      "text/plain": [
       "<Figure size 432x288 with 2 Axes>"
      ]
     },
     "metadata": {
      "needs_background": "light"
     },
     "output_type": "display_data"
    }
   ],
   "source": [
    "plot_confusion_matrix(clf, X_test, y_test)  \n",
    "plt.show()"
   ]
  },
  {
   "cell_type": "markdown",
   "metadata": {},
   "source": [
    "## SVM"
   ]
  },
  {
   "cell_type": "code",
   "execution_count": 30,
   "metadata": {},
   "outputs": [
    {
     "name": "stderr",
     "output_type": "stream",
     "text": [
      "/Users/sudeepsawant/miniforge3/envs/python38-demo-v2/lib/python3.8/site-packages/sklearn/utils/validation.py:63: DataConversionWarning: A column-vector y was passed when a 1d array was expected. Please change the shape of y to (n_samples, ), for example using ravel().\n",
      "  return f(*args, **kwargs)\n"
     ]
    },
    {
     "data": {
      "text/plain": [
       "SVC(C=125)"
      ]
     },
     "execution_count": 30,
     "metadata": {},
     "output_type": "execute_result"
    }
   ],
   "source": [
    "#Bulding and triang svm model\n",
    "from sklearn.svm import SVC\n",
    "svclassifier = SVC(kernel='rbf',C=125)\n",
    "svclassifier.fit(X_train, y_train)"
   ]
  },
  {
   "cell_type": "code",
   "execution_count": 31,
   "metadata": {},
   "outputs": [],
   "source": [
    "#predicting test data\n",
    "y_pred = svclassifier.predict(X_test)"
   ]
  },
  {
   "cell_type": "code",
   "execution_count": 32,
   "metadata": {
    "scrolled": true
   },
   "outputs": [
    {
     "name": "stdout",
     "output_type": "stream",
     "text": [
      "[[193  15]\n",
      " [ 15 152]]\n",
      "              precision    recall  f1-score   support\n",
      "\n",
      "         0.0       0.93      0.93      0.93       208\n",
      "         1.0       0.91      0.91      0.91       167\n",
      "\n",
      "    accuracy                           0.92       375\n",
      "   macro avg       0.92      0.92      0.92       375\n",
      "weighted avg       0.92      0.92      0.92       375\n",
      "\n"
     ]
    }
   ],
   "source": [
    "#calculating classification_report and confusion_matrix\n",
    "from sklearn.metrics import classification_report, confusion_matrix\n",
    "print(confusion_matrix(y_test,y_pred))\n",
    "print(classification_report(y_test,y_pred))"
   ]
  },
  {
   "cell_type": "code",
   "execution_count": 33,
   "metadata": {},
   "outputs": [
    {
     "data": {
      "image/png": "[encoded data removed]",
      "text/plain": [
       "<Figure size 432x288 with 2 Axes>"
      ]
     },
     "metadata": {
      "needs_background": "light"
     },
     "output_type": "display_data"
    }
   ],
   "source": [
    "#plotting Confusion matrix\n",
    "plot_confusion_matrix(svclassifier, X_test, y_test)  \n",
    "plt.show()"
   ]
  },
  {
   "cell_type": "markdown",
   "metadata": {},
   "source": [
    "## Get P2 Test Data from CSV"
   ]
  },
  {
   "cell_type": "code",
   "execution_count": 38,
   "metadata": {},
   "outputs": [],
   "source": [
    "# Loading test data in DF\n",
    "test_dataset=pd.read_csv(\"/Users/sudeepsawant/MS data/MachineLearningLAB/MachineLearningLAB/ML Assignment/CE802_P2_Data/CE802_P2_Test.csv\")"
   ]
  },
  {
   "cell_type": "code",
   "execution_count": 39,
   "metadata": {},
   "outputs": [
    {
     "data": {
      "text/html": [
       "<div>\n",
       "<style scoped>\n",
       "    .dataframe tbody tr th:only-of-type {\n",
       "        vertical-align: middle;\n",
       "    }\n",
       "\n",
       "    .dataframe tbody tr th {\n",
       "        vertical-align: top;\n",
       "    }\n",
       "\n",
       "    .dataframe thead th {\n",
       "        text-align: right;\n",
       "    }\n",
       "</style>\n",
       "<table border=\"1\" class=\"dataframe\">\n",
       "  <thead>\n",
       "    <tr style=\"text-align: right;\">\n",
       "      <th></th>\n",
       "      <th>F1</th>\n",
       "      <th>F2</th>\n",
       "      <th>F3</th>\n",
       "      <th>F4</th>\n",
       "      <th>F5</th>\n",
       "      <th>F6</th>\n",
       "      <th>F7</th>\n",
       "      <th>F8</th>\n",
       "      <th>F9</th>\n",
       "      <th>F10</th>\n",
       "      <th>F11</th>\n",
       "      <th>F12</th>\n",
       "      <th>F13</th>\n",
       "      <th>F14</th>\n",
       "      <th>F15</th>\n",
       "      <th>Class</th>\n",
       "    </tr>\n",
       "  </thead>\n",
       "  <tbody>\n",
       "    <tr>\n",
       "      <th>count</th>\n",
       "      <td>1500.000000</td>\n",
       "      <td>1500.000000</td>\n",
       "      <td>1500.000000</td>\n",
       "      <td>1500.000000</td>\n",
       "      <td>1500.000000</td>\n",
       "      <td>1500.000000</td>\n",
       "      <td>1500.000000</td>\n",
       "      <td>1500.000000</td>\n",
       "      <td>1500.000000</td>\n",
       "      <td>1500.000000</td>\n",
       "      <td>1500.000000</td>\n",
       "      <td>1500.000000</td>\n",
       "      <td>1500.000000</td>\n",
       "      <td>1500.000000</td>\n",
       "      <td>750.000000</td>\n",
       "      <td>0.0</td>\n",
       "    </tr>\n",
       "    <tr>\n",
       "      <th>mean</th>\n",
       "      <td>218.597333</td>\n",
       "      <td>15.303280</td>\n",
       "      <td>-0.713413</td>\n",
       "      <td>41.451160</td>\n",
       "      <td>130.947333</td>\n",
       "      <td>-1.643340</td>\n",
       "      <td>5.587480</td>\n",
       "      <td>3.895293</td>\n",
       "      <td>-7.314000</td>\n",
       "      <td>5.512667</td>\n",
       "      <td>-314.940000</td>\n",
       "      <td>0.465667</td>\n",
       "      <td>6.918293</td>\n",
       "      <td>3.805173</td>\n",
       "      <td>-10.496347</td>\n",
       "      <td>NaN</td>\n",
       "    </tr>\n",
       "    <tr>\n",
       "      <th>std</th>\n",
       "      <td>232.291403</td>\n",
       "      <td>12.917799</td>\n",
       "      <td>5.129234</td>\n",
       "      <td>9.715172</td>\n",
       "      <td>68.665086</td>\n",
       "      <td>2.492894</td>\n",
       "      <td>7.602147</td>\n",
       "      <td>3.438299</td>\n",
       "      <td>7.073138</td>\n",
       "      <td>4.507407</td>\n",
       "      <td>124.116235</td>\n",
       "      <td>2.403197</td>\n",
       "      <td>5.057494</td>\n",
       "      <td>5.022442</td>\n",
       "      <td>1.014522</td>\n",
       "      <td>NaN</td>\n",
       "    </tr>\n",
       "    <tr>\n",
       "      <th>min</th>\n",
       "      <td>0.000000</td>\n",
       "      <td>0.030000</td>\n",
       "      <td>-15.460000</td>\n",
       "      <td>30.090000</td>\n",
       "      <td>49.040000</td>\n",
       "      <td>-6.410000</td>\n",
       "      <td>-19.950000</td>\n",
       "      <td>0.000000</td>\n",
       "      <td>-24.670000</td>\n",
       "      <td>0.000000</td>\n",
       "      <td>-609.750000</td>\n",
       "      <td>-4.300000</td>\n",
       "      <td>-1.820000</td>\n",
       "      <td>-12.000000</td>\n",
       "      <td>-13.960000</td>\n",
       "      <td>NaN</td>\n",
       "    </tr>\n",
       "    <tr>\n",
       "      <th>25%</th>\n",
       "      <td>38.000000</td>\n",
       "      <td>3.892500</td>\n",
       "      <td>-4.565000</td>\n",
       "      <td>32.160000</td>\n",
       "      <td>78.040000</td>\n",
       "      <td>-4.015000</td>\n",
       "      <td>-0.120000</td>\n",
       "      <td>0.620000</td>\n",
       "      <td>-14.670000</td>\n",
       "      <td>1.000000</td>\n",
       "      <td>-369.750000</td>\n",
       "      <td>-1.045000</td>\n",
       "      <td>2.120000</td>\n",
       "      <td>0.095000</td>\n",
       "      <td>-11.240000</td>\n",
       "      <td>NaN</td>\n",
       "    </tr>\n",
       "    <tr>\n",
       "      <th>50%</th>\n",
       "      <td>108.000000</td>\n",
       "      <td>15.300000</td>\n",
       "      <td>-2.700000</td>\n",
       "      <td>44.850000</td>\n",
       "      <td>97.040000</td>\n",
       "      <td>-0.615000</td>\n",
       "      <td>2.655000</td>\n",
       "      <td>5.050000</td>\n",
       "      <td>-4.670000</td>\n",
       "      <td>10.000000</td>\n",
       "      <td>-294.750000</td>\n",
       "      <td>0.120000</td>\n",
       "      <td>8.980000</td>\n",
       "      <td>1.900000</td>\n",
       "      <td>-10.495000</td>\n",
       "      <td>NaN</td>\n",
       "    </tr>\n",
       "    <tr>\n",
       "      <th>75%</th>\n",
       "      <td>390.000000</td>\n",
       "      <td>25.350000</td>\n",
       "      <td>4.180000</td>\n",
       "      <td>50.100000</td>\n",
       "      <td>184.040000</td>\n",
       "      <td>0.260000</td>\n",
       "      <td>12.990000</td>\n",
       "      <td>7.000000</td>\n",
       "      <td>-1.670000</td>\n",
       "      <td>10.000000</td>\n",
       "      <td>-255.750000</td>\n",
       "      <td>1.765000</td>\n",
       "      <td>10.800000</td>\n",
       "      <td>8.720000</td>\n",
       "      <td>-9.762500</td>\n",
       "      <td>NaN</td>\n",
       "    </tr>\n",
       "    <tr>\n",
       "      <th>max</th>\n",
       "      <td>800.000000</td>\n",
       "      <td>47.250000</td>\n",
       "      <td>8.120000</td>\n",
       "      <td>61.500000</td>\n",
       "      <td>299.040000</td>\n",
       "      <td>5.400000</td>\n",
       "      <td>18.930000</td>\n",
       "      <td>10.300000</td>\n",
       "      <td>1.330000</td>\n",
       "      <td>10.000000</td>\n",
       "      <td>20.250000</td>\n",
       "      <td>10.320000</td>\n",
       "      <td>23.140000</td>\n",
       "      <td>12.660000</td>\n",
       "      <td>-7.570000</td>\n",
       "      <td>NaN</td>\n",
       "    </tr>\n",
       "  </tbody>\n",
       "</table>\n",
       "</div>"
      ],
      "text/plain": [
       "                F1           F2           F3           F4           F5  \\\n",
       "count  1500.000000  1500.000000  1500.000000  1500.000000  1500.000000   \n",
       "mean    218.597333    15.303280    -0.713413    41.451160   130.947333   \n",
       "std     232.291403    12.917799     5.129234     9.715172    68.665086   \n",
       "min       0.000000     0.030000   -15.460000    30.090000    49.040000   \n",
       "25%      38.000000     3.892500    -4.565000    32.160000    78.040000   \n",
       "50%     108.000000    15.300000    -2.700000    44.850000    97.040000   \n",
       "75%     390.000000    25.350000     4.180000    50.100000   184.040000   \n",
       "max     800.000000    47.250000     8.120000    61.500000   299.040000   \n",
       "\n",
       "                F6           F7           F8           F9          F10  \\\n",
       "count  1500.000000  1500.000000  1500.000000  1500.000000  1500.000000   \n",
       "mean     -1.643340     5.587480     3.895293    -7.314000     5.512667   \n",
       "std       2.492894     7.602147     3.438299     7.073138     4.507407   \n",
       "min      -6.410000   -19.950000     0.000000   -24.670000     0.000000   \n",
       "25%      -4.015000    -0.120000     0.620000   -14.670000     1.000000   \n",
       "50%      -0.615000     2.655000     5.050000    -4.670000    10.000000   \n",
       "75%       0.260000    12.990000     7.000000    -1.670000    10.000000   \n",
       "max       5.400000    18.930000    10.300000     1.330000    10.000000   \n",
       "\n",
       "               F11          F12          F13          F14         F15  Class  \n",
       "count  1500.000000  1500.000000  1500.000000  1500.000000  750.000000    0.0  \n",
       "mean   -314.940000     0.465667     6.918293     3.805173  -10.496347    NaN  \n",
       "std     124.116235     2.403197     5.057494     5.022442    1.014522    NaN  \n",
       "min    -609.750000    -4.300000    -1.820000   -12.000000  -13.960000    NaN  \n",
       "25%    -369.750000    -1.045000     2.120000     0.095000  -11.240000    NaN  \n",
       "50%    -294.750000     0.120000     8.980000     1.900000  -10.495000    NaN  \n",
       "75%    -255.750000     1.765000    10.800000     8.720000   -9.762500    NaN  \n",
       "max      20.250000    10.320000    23.140000    12.660000   -7.570000    NaN  "
      ]
     },
     "execution_count": 39,
     "metadata": {},
     "output_type": "execute_result"
    }
   ],
   "source": [
    "# Checking test data\n",
    "test_dataset.describe()"
   ]
  },
  {
   "cell_type": "code",
   "execution_count": 40,
   "metadata": {},
   "outputs": [
    {
     "data": {
      "text/plain": [
       "F1       139\n",
       "F2       397\n",
       "F3       667\n",
       "F4       215\n",
       "F5        93\n",
       "F6       645\n",
       "F7       653\n",
       "F8       213\n",
       "F9        11\n",
       "F10        4\n",
       "F11       77\n",
       "F12      471\n",
       "F13      640\n",
       "F14      638\n",
       "F15      339\n",
       "Class      0\n",
       "dtype: int64"
      ]
     },
     "execution_count": 40,
     "metadata": {},
     "output_type": "execute_result"
    }
   ],
   "source": [
    "# Checking unique data\n",
    "test_dataset.nunique()"
   ]
  },
  {
   "cell_type": "code",
   "execution_count": 41,
   "metadata": {},
   "outputs": [
    {
     "data": {
      "text/plain": [
       "<AxesSubplot:>"
      ]
     },
     "execution_count": 41,
     "metadata": {},
     "output_type": "execute_result"
    },
    {
     "data": {
      "image/png": "[encoded data removed]",
      "text/plain": [
       "<Figure size 432x288 with 1 Axes>"
      ]
     },
     "metadata": {
      "needs_background": "light"
     },
     "output_type": "display_data"
    }
   ],
   "source": [
    "# Checking unique data using heatmap\n",
    "sns.heatmap(test_dataset.isnull(),yticklabels=False,cbar=False,cmap=\"viridis\")"
   ]
  },
  {
   "cell_type": "code",
   "execution_count": 42,
   "metadata": {},
   "outputs": [
    {
     "data": {
      "text/plain": [
       "F1       0\n",
       "F2       0\n",
       "F3       0\n",
       "F4       0\n",
       "F5       0\n",
       "F6       0\n",
       "F7       0\n",
       "F8       0\n",
       "F9       0\n",
       "F10      0\n",
       "F11      0\n",
       "F12      0\n",
       "F13      0\n",
       "F14      0\n",
       "F15      0\n",
       "Class    0\n",
       "dtype: int64"
      ]
     },
     "execution_count": 42,
     "metadata": {},
     "output_type": "execute_result"
    }
   ],
   "source": [
    "# Handling null values using mean\n",
    "test_dataset=test_dataset.fillna(dataset.mean())\n",
    "test_dataset.isnull().sum()"
   ]
  },
  {
   "cell_type": "code",
   "execution_count": 43,
   "metadata": {},
   "outputs": [
    {
     "data": {
      "text/html": [
       "<div>\n",
       "<style scoped>\n",
       "    .dataframe tbody tr th:only-of-type {\n",
       "        vertical-align: middle;\n",
       "    }\n",
       "\n",
       "    .dataframe tbody tr th {\n",
       "        vertical-align: top;\n",
       "    }\n",
       "\n",
       "    .dataframe thead th {\n",
       "        text-align: right;\n",
       "    }\n",
       "</style>\n",
       "<table border=\"1\" class=\"dataframe\">\n",
       "  <thead>\n",
       "    <tr style=\"text-align: right;\">\n",
       "      <th></th>\n",
       "      <th>F1</th>\n",
       "      <th>F2</th>\n",
       "      <th>F3</th>\n",
       "      <th>F4</th>\n",
       "      <th>F5</th>\n",
       "      <th>F6</th>\n",
       "      <th>F7</th>\n",
       "      <th>F8</th>\n",
       "      <th>F9</th>\n",
       "      <th>F10</th>\n",
       "      <th>F11</th>\n",
       "      <th>F12</th>\n",
       "      <th>F13</th>\n",
       "      <th>F14</th>\n",
       "      <th>F15</th>\n",
       "    </tr>\n",
       "  </thead>\n",
       "  <tbody>\n",
       "    <tr>\n",
       "      <th>0</th>\n",
       "      <td>4</td>\n",
       "      <td>5.58</td>\n",
       "      <td>-4.66</td>\n",
       "      <td>31.83</td>\n",
       "      <td>69.04</td>\n",
       "      <td>-0.35</td>\n",
       "      <td>-1.29</td>\n",
       "      <td>0.06</td>\n",
       "      <td>-3.67</td>\n",
       "      <td>1</td>\n",
       "      <td>-243.75</td>\n",
       "      <td>0.94</td>\n",
       "      <td>13.84</td>\n",
       "      <td>-1.48</td>\n",
       "      <td>-11.040000</td>\n",
       "    </tr>\n",
       "    <tr>\n",
       "      <th>1</th>\n",
       "      <td>80</td>\n",
       "      <td>37.95</td>\n",
       "      <td>4.40</td>\n",
       "      <td>50.70</td>\n",
       "      <td>199.04</td>\n",
       "      <td>-4.83</td>\n",
       "      <td>5.19</td>\n",
       "      <td>7.25</td>\n",
       "      <td>-4.67</td>\n",
       "      <td>10</td>\n",
       "      <td>-474.75</td>\n",
       "      <td>-3.34</td>\n",
       "      <td>0.46</td>\n",
       "      <td>8.72</td>\n",
       "      <td>0.463974</td>\n",
       "    </tr>\n",
       "    <tr>\n",
       "      <th>2</th>\n",
       "      <td>60</td>\n",
       "      <td>1.08</td>\n",
       "      <td>-4.14</td>\n",
       "      <td>32.13</td>\n",
       "      <td>73.04</td>\n",
       "      <td>0.14</td>\n",
       "      <td>2.01</td>\n",
       "      <td>0.59</td>\n",
       "      <td>-3.67</td>\n",
       "      <td>1</td>\n",
       "      <td>-234.75</td>\n",
       "      <td>-1.08</td>\n",
       "      <td>9.36</td>\n",
       "      <td>-1.20</td>\n",
       "      <td>-11.710000</td>\n",
       "    </tr>\n",
       "    <tr>\n",
       "      <th>3</th>\n",
       "      <td>240</td>\n",
       "      <td>34.95</td>\n",
       "      <td>3.74</td>\n",
       "      <td>44.85</td>\n",
       "      <td>264.04</td>\n",
       "      <td>-2.92</td>\n",
       "      <td>11.52</td>\n",
       "      <td>8.45</td>\n",
       "      <td>-14.67</td>\n",
       "      <td>10</td>\n",
       "      <td>-174.75</td>\n",
       "      <td>-3.20</td>\n",
       "      <td>2.94</td>\n",
       "      <td>4.14</td>\n",
       "      <td>-10.400000</td>\n",
       "    </tr>\n",
       "    <tr>\n",
       "      <th>4</th>\n",
       "      <td>42</td>\n",
       "      <td>4.11</td>\n",
       "      <td>-3.78</td>\n",
       "      <td>31.92</td>\n",
       "      <td>92.04</td>\n",
       "      <td>1.09</td>\n",
       "      <td>-2.67</td>\n",
       "      <td>0.72</td>\n",
       "      <td>-3.67</td>\n",
       "      <td>1</td>\n",
       "      <td>-282.75</td>\n",
       "      <td>-0.40</td>\n",
       "      <td>11.20</td>\n",
       "      <td>0.92</td>\n",
       "      <td>-11.140000</td>\n",
       "    </tr>\n",
       "    <tr>\n",
       "      <th>...</th>\n",
       "      <td>...</td>\n",
       "      <td>...</td>\n",
       "      <td>...</td>\n",
       "      <td>...</td>\n",
       "      <td>...</td>\n",
       "      <td>...</td>\n",
       "      <td>...</td>\n",
       "      <td>...</td>\n",
       "      <td>...</td>\n",
       "      <td>...</td>\n",
       "      <td>...</td>\n",
       "      <td>...</td>\n",
       "      <td>...</td>\n",
       "      <td>...</td>\n",
       "      <td>...</td>\n",
       "    </tr>\n",
       "    <tr>\n",
       "      <th>1495</th>\n",
       "      <td>62</td>\n",
       "      <td>5.13</td>\n",
       "      <td>-5.32</td>\n",
       "      <td>32.46</td>\n",
       "      <td>72.04</td>\n",
       "      <td>1.17</td>\n",
       "      <td>-1.62</td>\n",
       "      <td>0.41</td>\n",
       "      <td>0.33</td>\n",
       "      <td>1</td>\n",
       "      <td>-306.75</td>\n",
       "      <td>1.20</td>\n",
       "      <td>9.24</td>\n",
       "      <td>0.96</td>\n",
       "      <td>0.463974</td>\n",
       "    </tr>\n",
       "    <tr>\n",
       "      <th>1496</th>\n",
       "      <td>30</td>\n",
       "      <td>0.69</td>\n",
       "      <td>-3.96</td>\n",
       "      <td>32.70</td>\n",
       "      <td>78.04</td>\n",
       "      <td>-0.16</td>\n",
       "      <td>-0.57</td>\n",
       "      <td>0.01</td>\n",
       "      <td>-1.67</td>\n",
       "      <td>1</td>\n",
       "      <td>-288.75</td>\n",
       "      <td>1.48</td>\n",
       "      <td>9.68</td>\n",
       "      <td>-0.08</td>\n",
       "      <td>0.463974</td>\n",
       "    </tr>\n",
       "    <tr>\n",
       "      <th>1497</th>\n",
       "      <td>94</td>\n",
       "      <td>4.95</td>\n",
       "      <td>-5.38</td>\n",
       "      <td>32.19</td>\n",
       "      <td>91.04</td>\n",
       "      <td>1.99</td>\n",
       "      <td>1.47</td>\n",
       "      <td>0.56</td>\n",
       "      <td>-1.67</td>\n",
       "      <td>1</td>\n",
       "      <td>-252.75</td>\n",
       "      <td>-0.86</td>\n",
       "      <td>12.04</td>\n",
       "      <td>-0.28</td>\n",
       "      <td>0.463974</td>\n",
       "    </tr>\n",
       "    <tr>\n",
       "      <th>1498</th>\n",
       "      <td>70</td>\n",
       "      <td>3.72</td>\n",
       "      <td>-6.82</td>\n",
       "      <td>33.06</td>\n",
       "      <td>74.04</td>\n",
       "      <td>0.50</td>\n",
       "      <td>2.52</td>\n",
       "      <td>0.24</td>\n",
       "      <td>0.33</td>\n",
       "      <td>1</td>\n",
       "      <td>-351.75</td>\n",
       "      <td>-0.08</td>\n",
       "      <td>9.48</td>\n",
       "      <td>0.34</td>\n",
       "      <td>0.463974</td>\n",
       "    </tr>\n",
       "    <tr>\n",
       "      <th>1499</th>\n",
       "      <td>52</td>\n",
       "      <td>3.09</td>\n",
       "      <td>-10.72</td>\n",
       "      <td>30.69</td>\n",
       "      <td>74.04</td>\n",
       "      <td>0.82</td>\n",
       "      <td>0.33</td>\n",
       "      <td>0.40</td>\n",
       "      <td>-1.67</td>\n",
       "      <td>0</td>\n",
       "      <td>-252.75</td>\n",
       "      <td>6.34</td>\n",
       "      <td>10.02</td>\n",
       "      <td>0.32</td>\n",
       "      <td>0.463974</td>\n",
       "    </tr>\n",
       "  </tbody>\n",
       "</table>\n",
       "<p>1500 rows × 15 columns</p>\n",
       "</div>"
      ],
      "text/plain": [
       "       F1     F2     F3     F4      F5    F6     F7    F8     F9  F10     F11  \\\n",
       "0       4   5.58  -4.66  31.83   69.04 -0.35  -1.29  0.06  -3.67    1 -243.75   \n",
       "1      80  37.95   4.40  50.70  199.04 -4.83   5.19  7.25  -4.67   10 -474.75   \n",
       "2      60   1.08  -4.14  32.13   73.04  0.14   2.01  0.59  -3.67    1 -234.75   \n",
       "3     240  34.95   3.74  44.85  264.04 -2.92  11.52  8.45 -14.67   10 -174.75   \n",
       "4      42   4.11  -3.78  31.92   92.04  1.09  -2.67  0.72  -3.67    1 -282.75   \n",
       "...   ...    ...    ...    ...     ...   ...    ...   ...    ...  ...     ...   \n",
       "1495   62   5.13  -5.32  32.46   72.04  1.17  -1.62  0.41   0.33    1 -306.75   \n",
       "1496   30   0.69  -3.96  32.70   78.04 -0.16  -0.57  0.01  -1.67    1 -288.75   \n",
       "1497   94   4.95  -5.38  32.19   91.04  1.99   1.47  0.56  -1.67    1 -252.75   \n",
       "1498   70   3.72  -6.82  33.06   74.04  0.50   2.52  0.24   0.33    1 -351.75   \n",
       "1499   52   3.09 -10.72  30.69   74.04  0.82   0.33  0.40  -1.67    0 -252.75   \n",
       "\n",
       "       F12    F13   F14        F15  \n",
       "0     0.94  13.84 -1.48 -11.040000  \n",
       "1    -3.34   0.46  8.72   0.463974  \n",
       "2    -1.08   9.36 -1.20 -11.710000  \n",
       "3    -3.20   2.94  4.14 -10.400000  \n",
       "4    -0.40  11.20  0.92 -11.140000  \n",
       "...    ...    ...   ...        ...  \n",
       "1495  1.20   9.24  0.96   0.463974  \n",
       "1496  1.48   9.68 -0.08   0.463974  \n",
       "1497 -0.86  12.04 -0.28   0.463974  \n",
       "1498 -0.08   9.48  0.34   0.463974  \n",
       "1499  6.34  10.02  0.32   0.463974  \n",
       "\n",
       "[1500 rows x 15 columns]"
      ]
     },
     "execution_count": 43,
     "metadata": {},
     "output_type": "execute_result"
    }
   ],
   "source": [
    "test_dataset.drop(\"Class\",axis=1)"
   ]
  },
  {
   "cell_type": "code",
   "execution_count": 44,
   "metadata": {},
   "outputs": [
    {
     "data": {
      "text/html": [
       "<div>\n",
       "<style scoped>\n",
       "    .dataframe tbody tr th:only-of-type {\n",
       "        vertical-align: middle;\n",
       "    }\n",
       "\n",
       "    .dataframe tbody tr th {\n",
       "        vertical-align: top;\n",
       "    }\n",
       "\n",
       "    .dataframe thead th {\n",
       "        text-align: right;\n",
       "    }\n",
       "</style>\n",
       "<table border=\"1\" class=\"dataframe\">\n",
       "  <thead>\n",
       "    <tr style=\"text-align: right;\">\n",
       "      <th></th>\n",
       "      <th>0</th>\n",
       "      <th>1</th>\n",
       "      <th>2</th>\n",
       "      <th>3</th>\n",
       "      <th>4</th>\n",
       "      <th>5</th>\n",
       "      <th>6</th>\n",
       "      <th>7</th>\n",
       "      <th>8</th>\n",
       "      <th>9</th>\n",
       "      <th>10</th>\n",
       "      <th>11</th>\n",
       "      <th>12</th>\n",
       "      <th>13</th>\n",
       "      <th>14</th>\n",
       "    </tr>\n",
       "  </thead>\n",
       "  <tbody>\n",
       "    <tr>\n",
       "      <th>0</th>\n",
       "      <td>0.0050</td>\n",
       "      <td>0.117535</td>\n",
       "      <td>0.458015</td>\n",
       "      <td>0.055396</td>\n",
       "      <td>0.080</td>\n",
       "      <td>0.513124</td>\n",
       "      <td>0.479938</td>\n",
       "      <td>0.005825</td>\n",
       "      <td>0.807692</td>\n",
       "      <td>0.1</td>\n",
       "      <td>0.580952</td>\n",
       "      <td>0.358413</td>\n",
       "      <td>0.627404</td>\n",
       "      <td>0.426602</td>\n",
       "      <td>0.202441</td>\n",
       "    </tr>\n",
       "    <tr>\n",
       "      <th>1</th>\n",
       "      <td>0.1000</td>\n",
       "      <td>0.803050</td>\n",
       "      <td>0.842239</td>\n",
       "      <td>0.656160</td>\n",
       "      <td>0.600</td>\n",
       "      <td>0.133785</td>\n",
       "      <td>0.646605</td>\n",
       "      <td>0.703883</td>\n",
       "      <td>0.769231</td>\n",
       "      <td>1.0</td>\n",
       "      <td>0.214286</td>\n",
       "      <td>0.065663</td>\n",
       "      <td>0.091346</td>\n",
       "      <td>0.840227</td>\n",
       "      <td>1.000000</td>\n",
       "    </tr>\n",
       "    <tr>\n",
       "      <th>2</th>\n",
       "      <td>0.0750</td>\n",
       "      <td>0.022236</td>\n",
       "      <td>0.480068</td>\n",
       "      <td>0.064947</td>\n",
       "      <td>0.096</td>\n",
       "      <td>0.554615</td>\n",
       "      <td>0.564815</td>\n",
       "      <td>0.057282</td>\n",
       "      <td>0.807692</td>\n",
       "      <td>0.1</td>\n",
       "      <td>0.595238</td>\n",
       "      <td>0.220246</td>\n",
       "      <td>0.447917</td>\n",
       "      <td>0.437956</td>\n",
       "      <td>0.155990</td>\n",
       "    </tr>\n",
       "    <tr>\n",
       "      <th>3</th>\n",
       "      <td>0.3000</td>\n",
       "      <td>0.739517</td>\n",
       "      <td>0.814249</td>\n",
       "      <td>0.469914</td>\n",
       "      <td>0.860</td>\n",
       "      <td>0.295512</td>\n",
       "      <td>0.809414</td>\n",
       "      <td>0.820388</td>\n",
       "      <td>0.384615</td>\n",
       "      <td>1.0</td>\n",
       "      <td>0.690476</td>\n",
       "      <td>0.075239</td>\n",
       "      <td>0.190705</td>\n",
       "      <td>0.654501</td>\n",
       "      <td>0.246811</td>\n",
       "    </tr>\n",
       "    <tr>\n",
       "      <th>4</th>\n",
       "      <td>0.0525</td>\n",
       "      <td>0.086404</td>\n",
       "      <td>0.495335</td>\n",
       "      <td>0.058262</td>\n",
       "      <td>0.172</td>\n",
       "      <td>0.635055</td>\n",
       "      <td>0.444444</td>\n",
       "      <td>0.069903</td>\n",
       "      <td>0.807692</td>\n",
       "      <td>0.1</td>\n",
       "      <td>0.519048</td>\n",
       "      <td>0.266758</td>\n",
       "      <td>0.521635</td>\n",
       "      <td>0.523925</td>\n",
       "      <td>0.195508</td>\n",
       "    </tr>\n",
       "  </tbody>\n",
       "</table>\n",
       "</div>"
      ],
      "text/plain": [
       "       0         1         2         3      4         5         6         7   \\\n",
       "0  0.0050  0.117535  0.458015  0.055396  0.080  0.513124  0.479938  0.005825   \n",
       "1  0.1000  0.803050  0.842239  0.656160  0.600  0.133785  0.646605  0.703883   \n",
       "2  0.0750  0.022236  0.480068  0.064947  0.096  0.554615  0.564815  0.057282   \n",
       "3  0.3000  0.739517  0.814249  0.469914  0.860  0.295512  0.809414  0.820388   \n",
       "4  0.0525  0.086404  0.495335  0.058262  0.172  0.635055  0.444444  0.069903   \n",
       "\n",
       "         8    9         10        11        12        13        14  \n",
       "0  0.807692  0.1  0.580952  0.358413  0.627404  0.426602  0.202441  \n",
       "1  0.769231  1.0  0.214286  0.065663  0.091346  0.840227  1.000000  \n",
       "2  0.807692  0.1  0.595238  0.220246  0.447917  0.437956  0.155990  \n",
       "3  0.384615  1.0  0.690476  0.075239  0.190705  0.654501  0.246811  \n",
       "4  0.807692  0.1  0.519048  0.266758  0.521635  0.523925  0.195508  "
      ]
     },
     "execution_count": 44,
     "metadata": {},
     "output_type": "execute_result"
    }
   ],
   "source": [
    "# splitting data into features and target and normalizing features\n",
    "Input=test_dataset.iloc[:,0:15]\n",
    "x = Input.values #returns a numpy array\n",
    "min_max_scaler = preprocessing.MinMaxScaler()\n",
    "x_scaled = min_max_scaler.fit_transform(x)\n",
    "test_dataset = pd.DataFrame(x_scaled)\n",
    "test_dataset.head()"
   ]
  },
  {
   "cell_type": "code",
   "execution_count": 45,
   "metadata": {},
   "outputs": [],
   "source": [
    "# predicting test data using svm model\n",
    "test_pred=svclassifier.predict(test_dataset)"
   ]
  },
  {
   "cell_type": "code",
   "execution_count": 52,
   "metadata": {},
   "outputs": [],
   "source": [
    "# Loading test data in DF\n",
    "test_dataset_final=pd.read_csv(\"/Users/sudeepsawant/MS data/MachineLearningLAB/MachineLearningLAB/ML Assignment/CE802_P2_Data/CE802_P2_Test.csv\")\n",
    "target = pd.DataFrame({'Class': test_pred[:]})"
   ]
  },
  {
   "cell_type": "code",
   "execution_count": 53,
   "metadata": {},
   "outputs": [],
   "source": [
    "# result = pd.concat([test_dataset_new, target], axis=1)"
   ]
  },
  {
   "cell_type": "code",
   "execution_count": 54,
   "metadata": {},
   "outputs": [],
   "source": [
    "test_dataset_final['Class']=target"
   ]
  },
  {
   "cell_type": "code",
   "execution_count": 63,
   "metadata": {},
   "outputs": [],
   "source": [
    "# converting 0 to false and 1 to true\n",
    "cleanup = {\"Class\": {0:False,1: True}}\n",
    "test_dataset_final.replace(cleanup, inplace=True)"
   ]
  },
  {
   "cell_type": "code",
   "execution_count": 65,
   "metadata": {},
   "outputs": [],
   "source": [
    "# Write into csv\n",
    "test_dataset_final.to_csv('CE802_P2_Test.csv', encoding='utf-8', index=False)"
   ]
  },
  {
   "cell_type": "code",
   "execution_count": null,
   "metadata": {},
   "outputs": [],
   "source": []
  },
  {
   "cell_type": "code",
   "execution_count": null,
   "metadata": {},
   "outputs": [],
   "source": []
  },
  {
   "cell_type": "code",
   "execution_count": null,
   "metadata": {},
   "outputs": [],
   "source": []
  }
 ],
 "metadata": {
  "kernelspec": {
   "display_name": "Python 3",
   "language": "python",
   "name": "python3"
  },
  "language_info": {
   "codemirror_mode": {
    "name": "ipython",
    "version": 3
   },
   "file_extension": ".py",
   "mimetype": "text/x-python",
   "name": "python",
   "nbconvert_exporter": "python",
   "pygments_lexer": "ipython3",
   "version": "3.8.6"
  }
 },
 "nbformat": 4,
 "nbformat_minor": 4
}
